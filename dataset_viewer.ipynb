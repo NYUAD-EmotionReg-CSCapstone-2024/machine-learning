{
 "cells": [
  {
   "cell_type": "markdown",
   "metadata": {},
   "source": [
    "# SEED-V Dataset\n",
    "In this notebook, we test the dataset, different splitting algoirthms for training, as well as visualize some samples from the dataset."
   ]
  },
  {
   "cell_type": "code",
   "execution_count": 1,
   "metadata": {},
   "outputs": [],
   "source": [
    "import matplotlib.pyplot as plt\n",
    "from datasets.seedv import SeedVDataset\n",
    "from datasets.splitters import RandomSplitter, LNSOSplitter, KFoldSplitter"
   ]
  },
  {
   "cell_type": "code",
   "execution_count": 2,
   "metadata": {},
   "outputs": [],
   "source": [
    "dataset = SeedVDataset(\n",
    "    root_dir='C:\\\\Users\\\\adi\\\\Documents\\\\SEED-V',\n",
    "    h5file='seedv12wnd.h5',\n",
    ")"
   ]
  },
  {
   "cell_type": "markdown",
   "metadata": {},
   "source": [
    "## Split test\n",
    "### Random Splitter"
   ]
  },
  {
   "cell_type": "code",
   "execution_count": 3,
   "metadata": {},
   "outputs": [],
   "source": [
    "random_split = RandomSplitter(\n",
    "    dataset=dataset,\n",
    "    train_ratio=0.8,\n",
    "    overlap_ratio=0.6,\n",
    "    shuffle=True\n",
    ")\n",
    "\n",
    "rs_trainset = random_split.trainset\n",
    "rs_testset = random_split.testset"
   ]
  },
  {
   "cell_type": "code",
   "execution_count": null,
   "metadata": {},
   "outputs": [],
   "source": [
    "assert len(dataset) == len(rs_trainset) + len(rs_testset)\n",
    "len(dataset), len(rs_trainset), len(rs_testset)"
   ]
  },
  {
   "cell_type": "markdown",
   "metadata": {},
   "source": [
    "### Leave N Subjects Out (LNSO) Splitter"
   ]
  },
  {
   "cell_type": "code",
   "execution_count": null,
   "metadata": {},
   "outputs": [],
   "source": [
    "lnso_split = LNSOSplitter(\n",
    "    dataset=dataset,\n",
    "    num_participants=10,\n",
    "    overlap_ratio=0.6\n",
    ")\n",
    "\n",
    "lnso_trainset = lnso_split.trainset\n",
    "lnso_testset = lnso_split.testset"
   ]
  },
  {
   "cell_type": "code",
   "execution_count": null,
   "metadata": {},
   "outputs": [],
   "source": [
    "assert len(dataset) == len(lnso_trainset) + len(lnso_testset)\n",
    "len(dataset), len(lnso_trainset), len(lnso_testset)"
   ]
  },
  {
   "cell_type": "markdown",
   "metadata": {},
   "source": [
    "### K-fold Splitter"
   ]
  },
  {
   "cell_type": "code",
   "execution_count": null,
   "metadata": {},
   "outputs": [],
   "source": [
    "k = 10\n",
    "kfold_split = KFoldSplitter(\n",
    "    dataset=dataset,\n",
    "    k=k,\n",
    "    shuffle=True\n",
    ")\n",
    "\n",
    "for i in range(k):\n",
    "    kfold_split.set_fold(i)\n",
    "    kfold_trainset = kfold_split.trainset\n",
    "    kfold_testset = kfold_split.testset\n",
    "\n",
    "    assert len(dataset) == len(kfold_trainset) + len(kfold_testset)\n",
    "    print(len(kfold_trainset), len(kfold_testset))"
   ]
  },
  {
   "cell_type": "code",
   "execution_count": null,
   "metadata": {},
   "outputs": [],
   "source": [
    "# Plot the first 10 samples (first channel only)\n",
    "fig, axs = plt.subplots(10, 1, figsize=(20, 20))\n",
    "for i in range(10):\n",
    "    data, label = dataset[i]\n",
    "    axs[i].plot(data[0])\n",
    "    axs[i].set_title(f'Label: {label}')\n",
    "plt.show()"
   ]
  },
  {
   "cell_type": "code",
   "execution_count": null,
   "metadata": {},
   "outputs": [],
   "source": []
  }
 ],
 "metadata": {
  "kernelspec": {
   "display_name": "venv",
   "language": "python",
   "name": "python3"
  },
  "language_info": {
   "codemirror_mode": {
    "name": "ipython",
    "version": 3
   },
   "file_extension": ".py",
   "mimetype": "text/x-python",
   "name": "python",
   "nbconvert_exporter": "python",
   "pygments_lexer": "ipython3",
   "version": "3.12.5"
  }
 },
 "nbformat": 4,
 "nbformat_minor": 2
}
